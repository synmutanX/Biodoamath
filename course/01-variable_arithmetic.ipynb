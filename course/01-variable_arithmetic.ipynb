{
 "cells": [
  {
   "cell_type": "markdown",
   "metadata": {},
   "source": [
    "# Tutorial: Variables and Arithmetic in Python for Biologists <br>\n"
   ]
  },
  {
   "cell_type": "markdown",
   "metadata": {},
   "source": [
    "## 1. Introdution to Variables\n",
    "Variables are like labeled containers where we store data in [Python](https://en.wikipedia.org/wiki/Python_(programming_language)). They allow us to reuse data and perform operations.<br>\n",
    "\n",
    "### Declaring Variables "
   ]
  },
  {
   "cell_type": "code",
   "execution_count": 2,
   "metadata": {},
   "outputs": [
    {
     "name": "stdout",
     "output_type": "stream",
     "text": [
      "A modern Homo sapiens has average age around 60 years old, and average height around 180.5 cm\n",
      "\n",
      "disclaimer: this is just an example and not real data\n"
     ]
    }
   ],
   "source": [
    "# Example\n",
    "age = 60  # An integer variable\n",
    "height = 180.5  # A floating-point (decimal) variable\n",
    "species = 'Homo sapiens'  # A string variable\n",
    "print(\"A modern\",species, \"has average age around\", age, \"years old, and average height around\", height, \"cm\")\n",
    "print(\"\\ndisclaimer: this is just an example and not real data\")"
   ]
  },
  {
   "cell_type": "markdown",
   "metadata": {},
   "source": [
    "## 2. Arithmetic Operations <br>\n",
    "Python supports several arithmetic operations, including: <br>\n",
    "- Addition (+): Adds two numbers. <br>\n",
    "- Subtraction (-): Subtracts one number from another. <br>\n",
    "- Multiplication (*): Multiplies two numbers. <br>\n",
    "- Division (/): Divides one number by another, returning a float. <br>\n",
    "- Exponentiation (**): Raises one number to the power of another. <br>\n",
    "- Modulus (%): Return the remainder of the division of one number by another. <br>\n",
    "\n",
    "### Example"
   ]
  },
  {
   "cell_type": "code",
   "execution_count": 4,
   "metadata": {},
   "outputs": [
    {
     "name": "stdout",
     "output_type": "stream",
     "text": [
      "12\n",
      "6\n",
      "27\n",
      "3.0\n",
      "729\n",
      "0\n"
     ]
    }
   ],
   "source": [
    "# Basic arithmetic\n",
    "a = 10\n",
    "b = 3\n",
    "print(a + b)  # 13\n",
    "print(a - b)  # 7\n",
    "print(a * b)  # 30\n",
    "print(a / b)  # 3.3333\n",
    "print(a ** b)  # 1000\n",
    "print(a % b)  # 1"
   ]
  },
  {
   "cell_type": "markdown",
   "metadata": {},
   "source": [
    "## 3. Example Cases in Biology and Bioinformatics\n",
    "\n",
    "### Case 1: Calculating DNA Molecular Weight <br>\n",
    "[DNA](https://en.wikipedia.org/wiki/DNA) molecular weight can be estimated using the base composition."
   ]
  },
  {
   "cell_type": "code",
   "execution_count": 5,
   "metadata": {},
   "outputs": [
    {
     "name": "stdout",
     "output_type": "stream",
     "text": [
      "DNA Molecular Weight: 2471.6 g/mol\n"
     ]
    }
   ],
   "source": [
    "# Variables for nucleotide weights (in g/mol)\n",
    "adenine = 313.2\n",
    "thymine = 304.2\n",
    "cytosine = 289.2\n",
    "guanine = 329.2\n",
    "\n",
    "# DNA sequence\n",
    "sequence = \"TGCGTACA\"\n",
    "\n",
    "# Count nucleotides\n",
    "A_count = sequence.count(\"A\")\n",
    "T_count = sequence.count(\"T\")\n",
    "C_count = sequence.count(\"C\")\n",
    "G_count = sequence.count(\"G\")\n",
    "\n",
    "# Calculate molecular weight\n",
    "molecular_weight = (A_count * adenine +\n",
    "                    T_count * thymine +\n",
    "                    C_count * cytosine +\n",
    "                    G_count * guanine)\n",
    "\n",
    "print(f\"DNA Molecular Weight: {molecular_weight} g/mol\")"
   ]
  },
  {
   "cell_type": "markdown",
   "metadata": {},
   "source": [
    "### Case 2: Growth Rate of Bacterial Culture <br>\n",
    "The **growth rate** of a bacterial culture is often modeled using the **exponential growth formula**. The general formula is:\n",
    "\n",
    "$$N_{(t)} = N_{(0)}\\times(e^{rt})$$\n",
    "\n",
    "Where:\n",
    "- $N_{(t)}:$ Number of bacteria at time _t_\n",
    "- $N_{(0)}:$ Initial number of bacteria\n",
    "- $r:$ Growth rate (per unit of time)\n",
    "- $t:$ Time elapsed (hours)\n",
    "- $e:$ [Euler's number](https://en.wikipedia.org/wiki/E_(mathematical_constant)) (≈2.718)"
   ]
  },
  {
   "cell_type": "code",
   "execution_count": 6,
   "metadata": {},
   "outputs": [
    {
     "name": "stdout",
     "output_type": "stream",
     "text": [
      "Bacterial population after 24 hours: 1616.0744021928936\n"
     ]
    }
   ],
   "source": [
    "import math\n",
    "\n",
    "# Variables\n",
    "N0 = 1000 # Initial number of bacteria\n",
    "r = 0.02 # Growth rate per hour\n",
    "t = 24 # Time in hours\n",
    "\n",
    "# Calculate population\n",
    "Nt = N0 * math.exp(r*t)\n",
    "\n",
    "print(f\"Bacterial population after {t} hours: {Nt}\")"
   ]
  },
  {
   "cell_type": "markdown",
   "metadata": {},
   "source": [
    "### Case 3: Average Gene Expression <br>\n",
    "Compute the average expression level from a list of expression values."
   ]
  },
  {
   "cell_type": "code",
   "execution_count": 7,
   "metadata": {},
   "outputs": [
    {
     "name": "stdout",
     "output_type": "stream",
     "text": [
      "Average Gene Expression Level: 14.5\n"
     ]
    }
   ],
   "source": [
    "# Store expression levels in a list\n",
    "gene_a_expression = [12.5, 15.8, 13.2, 16.1, 14.9]\n",
    "\n",
    "# Calculate the sum using the sum() function\n",
    "total_expression = sum(gene_a_expression)\n",
    "\n",
    "# Calculate the number of samples using len() function\n",
    "num_samples = len(gene_a_expression)\n",
    "\n",
    "# Calculate the average\n",
    "average_expression = total_expression / num_samples\n",
    "print(\"Average Gene Expression Level:\", average_expression)"
   ]
  }
 ],
 "metadata": {
  "kernelspec": {
   "display_name": "biodoamath",
   "language": "python",
   "name": "python3"
  },
  "language_info": {
   "codemirror_mode": {
    "name": "ipython",
    "version": 3
   },
   "file_extension": ".py",
   "mimetype": "text/x-python",
   "name": "python",
   "nbconvert_exporter": "python",
   "pygments_lexer": "ipython3",
   "version": "3.12.7"
  }
 },
 "nbformat": 4,
 "nbformat_minor": 2
}
