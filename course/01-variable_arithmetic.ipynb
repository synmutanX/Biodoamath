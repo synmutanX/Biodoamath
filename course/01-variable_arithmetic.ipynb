{
 "cells": [
  {
   "cell_type": "markdown",
   "metadata": {},
   "source": [
    "# Tutorial: Variables and Arithmetic in Python for Biologists <br>\n"
   ]
  },
  {
   "cell_type": "markdown",
   "metadata": {},
   "source": [
    "## 1. Introdution to Variables\n",
    "Variables are like labeled containers where we store data in [Python](https://en.wikipedia.org/wiki/Python_(programming_language)). They allow us to reuse data and perform operations.<br>\n",
    "\n",
    "### Declaring Variables "
   ]
  },
  {
   "cell_type": "code",
   "execution_count": 7,
   "metadata": {},
   "outputs": [
    {
     "name": "stdout",
     "output_type": "stream",
     "text": [
      "A modern Homo sapiens has average age around 60 years old, and average height around 180.5 cm\n",
      "\n",
      "disclaimer: this is just an example and not real data\n"
     ]
    }
   ],
   "source": [
    "# Example\n",
    "age = 60  # An integer variable\n",
    "height = 180.5  # A floating-point (decimal) variable\n",
    "species = \"Homo sapiens\"  # A string variable\n",
    "print(\"A modern\",species, \"has average age around\", age, \"years old, and average height around\", height, \"cm\")\n",
    "print(\"\\ndisclaimer: this is just an example and not real data\")"
   ]
  },
  {
   "cell_type": "markdown",
   "metadata": {},
   "source": [
    "## 2. Arithmetic Operations <br>\n",
    "Python supports several arithmetic operations, including: <br>\n",
    "- Addition (+): Adds two numbers. <br>\n",
    "- Subtraction (-): Subtracts one number from another. <br>\n",
    "- Multiplication (*): Multiplies two numbers. <br>\n",
    "- Division (/): Divides one number by another, returning a float. <br>\n",
    "- Exponentiation (**): Raises one number to the power of another. <br>\n",
    "- Modulus (%): Return the remainder of the division of one number by another. <br>\n",
    "\n",
    "### Example"
   ]
  },
  {
   "cell_type": "code",
   "execution_count": 9,
   "metadata": {},
   "outputs": [
    {
     "name": "stdout",
     "output_type": "stream",
     "text": [
      "13\n",
      "7\n",
      "30\n",
      "3.3333333333333335\n",
      "1000\n",
      "1\n"
     ]
    }
   ],
   "source": [
    "# Basic arithmetic\n",
    "a = 10\n",
    "b = 3\n",
    "print(a + b)  # 13\n",
    "print(a - b)  # 7\n",
    "print(a * b)  # 30\n",
    "print(a / b)  # 3.3333\n",
    "print(a ** b)  # 1000\n",
    "print(a % b)  # 1"
   ]
  },
  {
   "cell_type": "markdown",
   "metadata": {},
   "source": [
    "## 3. Example Cases in Biology and Bioinformatics\n",
    "\n",
    "### Case 1: Calculating DNA Molecular Weight <br>\n",
    "[DNA](https://en.wikipedia.org/wiki/DNA) molecular weight can be estimated using the base composition."
   ]
  },
  {
   "cell_type": "code",
   "execution_count": 10,
   "metadata": {},
   "outputs": [
    {
     "name": "stdout",
     "output_type": "stream",
     "text": [
      "DNA Molecular Weight: 2471.6 g/mol\n"
     ]
    }
   ],
   "source": [
    "# Variables for nucleotide weights (in g/mol)\n",
    "adenine = 313.2\n",
    "thymine = 304.2\n",
    "cytosine = 289.2\n",
    "guanine = 329.2\n",
    "\n",
    "# DNA sequence\n",
    "sequence = \"ATGCGTAC\"\n",
    "\n",
    "# Count nucleotides\n",
    "A_count = sequence.count(\"A\")\n",
    "T_count = sequence.count(\"T\")\n",
    "C_count = sequence.count(\"C\")\n",
    "G_count = sequence.count(\"G\")\n",
    "\n",
    "# Calculate molecular weight\n",
    "molecular_weight = (A_count * adenine +\n",
    "                    T_count * thymine +\n",
    "                    C_count * cytosine +\n",
    "                    G_count * guanine)\n",
    "\n",
    "print(f\"DNA Molecular Weight: {molecular_weight} g/mol\")"
   ]
  },
  {
   "cell_type": "markdown",
   "metadata": {},
   "source": [
    "### Case 2: Growth Rate of Bacterial Culture <br>\n",
    "Compute the growth rate using the exponential growth formula:\n",
    "\n",
    "$$N(t) = N(0)\\times(e^{rt})$$\n",
    "\n",
    "Where:\n",
    "- $N(0):$ Initial population\n",
    "- $r:$ Growth rate\n",
    "- $t:$ Time(hours)"
   ]
  },
  {
   "cell_type": "code",
   "execution_count": 11,
   "metadata": {},
   "outputs": [
    {
     "name": "stdout",
     "output_type": "stream",
     "text": [
      "Bacterial population after 24 hours: 1616.0744021928936\n"
     ]
    }
   ],
   "source": [
    "import math\n",
    "\n",
    "# Variables\n",
    "N0 = 1000 # Initial bacterial population\n",
    "r = 0.02 # Growth rate per hour\n",
    "t = 24 # Time in hours\n",
    "\n",
    "# Calculate population\n",
    "Nt = N0 * math.exp(r*t)\n",
    "\n",
    "print(f\"Bacterial population after {t} hours: {Nt}\")"
   ]
  },
  {
   "cell_type": "markdown",
   "metadata": {},
   "source": [
    "### Case 3: Average Gene Expression <br>\n",
    "Compute the average expression level from a list of expression values."
   ]
  },
  {
   "cell_type": "code",
   "execution_count": 12,
   "metadata": {},
   "outputs": [
    {
     "name": "stdout",
     "output_type": "stream",
     "text": [
      "Average Gene Expression: 56.379999999999995\n"
     ]
    }
   ],
   "source": [
    "# Gene expression levels (FPKM values)\n",
    "expression_levels = [50.3, 60.1, 45.2, 70.5, 55.8]\n",
    "\n",
    "# Calculate average\n",
    "average_expression = sum(expression_levels) / len(expression_levels)\n",
    "\n",
    "print(f\"Average Gene Expression: {average_expression}\")"
   ]
  }
 ],
 "metadata": {
  "kernelspec": {
   "display_name": "biodoamath",
   "language": "python",
   "name": "python3"
  },
  "language_info": {
   "codemirror_mode": {
    "name": "ipython",
    "version": 3
   },
   "file_extension": ".py",
   "mimetype": "text/x-python",
   "name": "python",
   "nbconvert_exporter": "python",
   "pygments_lexer": "ipython3",
   "version": "3.12.7"
  }
 },
 "nbformat": 4,
 "nbformat_minor": 2
}
